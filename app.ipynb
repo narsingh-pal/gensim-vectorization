{
 "cells": [
  {
   "cell_type": "code",
   "id": "initial_id",
   "metadata": {
    "collapsed": true
   },
   "source": "!pip install gensim nltk",
   "outputs": [],
   "execution_count": null
  },
  {
   "metadata": {},
   "cell_type": "code",
   "source": [
    "import nltk\n",
    "nltk.download('punkt')\n",
    "from nltk.tokenize import word_tokenize\n",
    "\n",
    "sentences = [\n",
    "    \"I love playing football\",\n",
    "    \"She loves watching movies\",\n",
    "    \"He enjoys playing cricket\",\n",
    "    \"They love going to the park\",\n",
    "    \"We enjoy reading books\"\n",
    "]\n",
    "\n",
    "# Tokenize each sentence into words\n",
    "tokenized_sentences = [word_tokenize(sent.lower()) for sent in sentences]\n",
    "print(tokenized_sentences)\n"
   ],
   "id": "c9c16a49d0a4cab9",
   "outputs": [],
   "execution_count": null
  },
  {
   "metadata": {},
   "cell_type": "code",
   "source": [
    "from gensim.models import Word2Vec\n",
    "\n",
    "# Train the Word2Vec model\n",
    "model = Word2Vec(sentences=tokenized_sentences, vector_size=50, window=2, min_count=1, workers=2)\n",
    "\n",
    "# Save the model (optional)\n",
    "model.save(\"tiny_word2vec.model\")\n"
   ],
   "id": "54362cdfc7053657",
   "outputs": [],
   "execution_count": null
  },
  {
   "metadata": {},
   "cell_type": "code",
   "source": [
    "# Load model (if you saved it)\n",
    "model = Word2Vec.load(\"tiny_word2vec.model\")\n",
    "\n",
    "# Get vector for a word\n",
    "vector = model.wv['love']\n",
    "print(vector)\n",
    "\n",
    "# Find similar words\n",
    "similar_words = model.wv.most_similar('love')\n",
    "print(similar_words)\n"
   ],
   "id": "6f8609496256925a",
   "outputs": [],
   "execution_count": null
  },
  {
   "metadata": {},
   "cell_type": "code",
   "source": [
    "import matplotlib.pyplot as plt\n",
    "from sklearn.decomposition import PCA\n",
    "\n",
    "words = list(model.wv.index_to_key)\n",
    "vectors = [model.wv[word] for word in words]\n",
    "\n",
    "pca = PCA(n_components=2)\n",
    "reduced = pca.fit_transform(vectors)\n",
    "\n",
    "plt.figure(figsize=(10, 6))\n",
    "for i, word in enumerate(words):\n",
    "    plt.scatter(reduced[i, 0], reduced[i, 1])\n",
    "    plt.annotate(word, (reduced[i, 0], reduced[i, 1]))\n",
    "plt.title(\"Word2Vec Word Embeddings (2D PCA)\")\n",
    "plt.show()\n"
   ],
   "id": "854effbbcdf9e775",
   "outputs": [],
   "execution_count": null
  }
 ],
 "metadata": {
  "kernelspec": {
   "display_name": "Python 3",
   "language": "python",
   "name": "python3"
  },
  "language_info": {
   "codemirror_mode": {
    "name": "ipython",
    "version": 2
   },
   "file_extension": ".py",
   "mimetype": "text/x-python",
   "name": "python",
   "nbconvert_exporter": "python",
   "pygments_lexer": "ipython2",
   "version": "2.7.6"
  }
 },
 "nbformat": 4,
 "nbformat_minor": 5
}
