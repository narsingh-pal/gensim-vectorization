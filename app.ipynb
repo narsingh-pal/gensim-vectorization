{
 "cells": [
  {
   "cell_type": "code",
   "id": "initial_id",
   "metadata": {
    "collapsed": true,
    "ExecuteTime": {
     "end_time": "2025-04-22T14:13:56.996739Z",
     "start_time": "2025-04-22T14:13:55.703068Z"
    }
   },
   "source": "!pip install gensim nltk",
   "outputs": [
    {
     "name": "stdout",
     "output_type": "stream",
     "text": [
      "Requirement already satisfied: gensim in c:\\programdata\\anaconda3\\lib\\site-packages (4.3.3)\n",
      "Requirement already satisfied: nltk in c:\\programdata\\anaconda3\\lib\\site-packages (3.9.1)\n",
      "Requirement already satisfied: numpy<2.0,>=1.18.5 in c:\\programdata\\anaconda3\\lib\\site-packages (from gensim) (1.26.4)\n",
      "Requirement already satisfied: scipy<1.14.0,>=1.7.0 in c:\\programdata\\anaconda3\\lib\\site-packages (from gensim) (1.13.1)\n",
      "Requirement already satisfied: smart-open>=1.8.1 in c:\\programdata\\anaconda3\\lib\\site-packages (from gensim) (5.2.1)\n",
      "Requirement already satisfied: click in c:\\programdata\\anaconda3\\lib\\site-packages (from nltk) (8.1.7)\n",
      "Requirement already satisfied: joblib in c:\\programdata\\anaconda3\\lib\\site-packages (from nltk) (1.4.2)\n",
      "Requirement already satisfied: regex>=2021.8.3 in c:\\programdata\\anaconda3\\lib\\site-packages (from nltk) (2024.9.11)\n",
      "Requirement already satisfied: tqdm in c:\\programdata\\anaconda3\\lib\\site-packages (from nltk) (4.67.1)\n",
      "Requirement already satisfied: colorama in c:\\programdata\\anaconda3\\lib\\site-packages (from click->nltk) (0.4.6)\n"
     ]
    }
   ],
   "execution_count": 7
  },
  {
   "metadata": {
    "ExecuteTime": {
     "end_time": "2025-04-22T14:14:10.875308Z",
     "start_time": "2025-04-22T14:14:10.831592Z"
    }
   },
   "cell_type": "code",
   "source": [
    "import nltk\n",
    "nltk.download('punkt')\n",
    "from nltk.tokenize import word_tokenize\n",
    "\n",
    "sentences = [\n",
    "    \"I love playing football\",\n",
    "    \"She loves watching movies\",\n",
    "    \"He enjoys playing cricket\",\n",
    "    \"They love going to the park\",\n",
    "    \"We enjoy reading books\"\n",
    "]\n",
    "\n",
    "# Tokenize each sentence into words\n",
    "tokenized_sentences = [word_tokenize(sent.lower()) for sent in sentences]\n",
    "print(tokenized_sentences)\n"
   ],
   "id": "c9c16a49d0a4cab9",
   "outputs": [
    {
     "name": "stdout",
     "output_type": "stream",
     "text": [
      "[['i', 'love', 'playing', 'football'], ['she', 'loves', 'watching', 'movies'], ['he', 'enjoys', 'playing', 'cricket'], ['they', 'love', 'going', 'to', 'the', 'park'], ['we', 'enjoy', 'reading', 'books']]\n"
     ]
    },
    {
     "name": "stderr",
     "output_type": "stream",
     "text": [
      "[nltk_data] Downloading package punkt to\n",
      "[nltk_data]     C:\\Users\\narsi\\AppData\\Roaming\\nltk_data...\n",
      "[nltk_data]   Package punkt is already up-to-date!\n"
     ]
    }
   ],
   "execution_count": 8
  },
  {
   "metadata": {
    "ExecuteTime": {
     "end_time": "2025-04-22T14:14:50.581453Z",
     "start_time": "2025-04-22T14:14:50.392462Z"
    }
   },
   "cell_type": "code",
   "source": [
    "from gensim.models import Word2Vec\n",
    "\n",
    "# Train the Word2Vec model\n",
    "model = Word2Vec(sentences=tokenized_sentences, vector_size=50, window=2, min_count=1, workers=2)\n",
    "\n",
    "# Save the model (optional)\n",
    "model.save(\"tiny_word2vec.model\")\n"
   ],
   "id": "54362cdfc7053657",
   "outputs": [],
   "execution_count": 9
  },
  {
   "metadata": {
    "ExecuteTime": {
     "end_time": "2025-04-22T14:15:06.369732Z",
     "start_time": "2025-04-22T14:15:06.356296Z"
    }
   },
   "cell_type": "code",
   "source": [
    "# Load model (if you saved it)\n",
    "model = Word2Vec.load(\"tiny_word2vec.model\")\n",
    "\n",
    "# Get vector for a word\n",
    "vector = model.wv['love']\n",
    "print(vector)\n",
    "\n",
    "# Find similar words\n",
    "similar_words = model.wv.most_similar('love')\n",
    "print(similar_words)\n"
   ],
   "id": "6f8609496256925a",
   "outputs": [
    {
     "name": "stdout",
     "output_type": "stream",
     "text": [
      "[-1.07401039e-03  4.73518390e-04  1.02109024e-02  1.80207398e-02\n",
      " -1.86063629e-02 -1.42321195e-02  1.29196234e-02  1.79454163e-02\n",
      " -1.00328000e-02 -7.52702029e-03  1.47625497e-02 -3.06899915e-03\n",
      " -9.07036848e-03  1.31084174e-02 -9.71937366e-03 -3.63061973e-03\n",
      "  5.75113855e-03  1.98541628e-03 -1.65746175e-02 -1.89011134e-02\n",
      "  1.46236336e-02  1.01439692e-02  1.35190664e-02  1.52316561e-03\n",
      "  1.26998080e-02 -6.80943858e-03 -1.89345016e-03  1.15353270e-02\n",
      " -1.50452675e-02 -7.87375867e-03 -1.50247375e-02 -1.86136470e-03\n",
      "  1.90768987e-02 -1.46375699e-02 -4.66752890e-03 -3.87515151e-03\n",
      "  1.61546562e-02 -1.18601713e-02  9.06346904e-05 -9.50881746e-03\n",
      " -1.92064773e-02  1.00145973e-02 -1.75207350e-02 -8.78260750e-03\n",
      " -6.80233061e-05 -5.93174133e-04 -1.53241409e-02  1.92302000e-02\n",
      "  9.96651221e-03  1.84649695e-02]\n",
      "[('enjoy', 0.2705352306365967), ('to', 0.21067924797534943), ('cricket', 0.1671048253774643), ('going', 0.15018129348754883), ('watching', 0.13202737271785736), ('books', 0.12671317160129547), ('he', 0.09984580427408218), ('park', 0.05945540592074394), ('we', 0.04988536238670349), ('playing', 0.0423913449048996)]\n"
     ]
    }
   ],
   "execution_count": 10
  },
  {
   "metadata": {},
   "cell_type": "code",
   "source": [
    "import matplotlib.pyplot as plt\n",
    "from sklearn.decomposition import PCA\n",
    "\n",
    "words = list(model.wv.index_to_key)\n",
    "vectors = [model.wv[word] for word in words]\n",
    "\n",
    "pca = PCA(n_components=2)\n",
    "reduced = pca.fit_transform(vectors)\n",
    "\n",
    "plt.figure(figsize=(10, 6))\n",
    "for i, word in enumerate(words):\n",
    "    plt.scatter(reduced[i, 0], reduced[i, 1])\n",
    "    plt.annotate(word, (reduced[i, 0], reduced[i, 1]))\n",
    "plt.title(\"Word2Vec Word Embeddings (2D PCA)\")\n",
    "plt.show()\n"
   ],
   "id": "854effbbcdf9e775",
   "outputs": [],
   "execution_count": null
  }
 ],
 "metadata": {
  "kernelspec": {
   "display_name": "Python 3",
   "language": "python",
   "name": "python3"
  },
  "language_info": {
   "codemirror_mode": {
    "name": "ipython",
    "version": 2
   },
   "file_extension": ".py",
   "mimetype": "text/x-python",
   "name": "python",
   "nbconvert_exporter": "python",
   "pygments_lexer": "ipython2",
   "version": "2.7.6"
  }
 },
 "nbformat": 4,
 "nbformat_minor": 5
}
